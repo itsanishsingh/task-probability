{
 "cells": [
  {
   "cell_type": "markdown",
   "id": "7bdbc26d-f0a0-4ce7-8d45-5fabea05257b",
   "metadata": {},
   "source": [
    "# Probability"
   ]
  },
  {
   "cell_type": "markdown",
   "id": "15d8ce9f-6a2e-4beb-9432-7ee21ed1a1e9",
   "metadata": {},
   "source": [
    "## Random Variables\n",
    "Random variable is a fundamental concept in statistics that bridges the gap between theoretical probability and real-world data. random variable in statistics is a function that assigns a real value to an outcome in the sample space of a random experiment.\\\n",
    "Random variables are of 2 types:\n",
    "* Discrete - A Discrete Random Variable takes on a finite number of values.\n",
    "* Continuous - Continuous Random Variable takes on an infinite number of values."
   ]
  },
  {
   "cell_type": "markdown",
   "id": "ae04419d-5d39-41a8-ab6b-0189fc5c9b8d",
   "metadata": {},
   "source": [
    "### Discrete Random Variable\n",
    "The probability function associated with it is said to be PMF (Probability Mass Function).\n",
    "<p>\n",
    "    If X is a discrete random variable and the PMF of X is P(xi), then\n",
    "        <ul>\n",
    "            <li>0 ≤ pi ≤ 1</li>\n",
    "            <li>∑pi = 1 where the sum is taken over all possible values of x</li>\n",
    "        </ul>\n",
    "    Lets take an example:\n",
    "    \n",
    "    If two unbiased coins are tossed then find the random variable associated with that event.\n",
    "    \n",
    "    Suppose Two (unbiased) coins are tossed\n",
    "    \n",
    "    X = number of heads. [X is a random variable or function]\n",
    "    \n",
    "    Here, the sample space S = {HH, HT, TH, TT}\n",
    "    \n",
    "    Suppose a random variable X takes m different values i.e. sample space\n",
    "    \n",
    "    X = {x1, x2, x3………xm} with probabilities\n",
    "    \n",
    "    P(X = xi) = pi\n",
    "    \n",
    "    where 1 ≤ i ≤ m\n",
    "    \n",
    "    The probabilities must satisfy the following conditions :\n",
    "        0 ≤ pi ≤ 1; where 1 ≤ i ≤ m\n",
    "        p1 + p2 + p3 + ……. + pm = 1 Or we can say 0 ≤ pi ≤ 1 and ∑pi = 1\n",
    "    \n",
    "    Hence possible values for random variable X are 0, 1, 2.\n",
    "    \n",
    "    X = {0, 1, 2} where m = 3\n",
    "        P(X = 0) = (Probability that number of heads is 0) = P(TT) = 1/2×1/2 = 1/4\n",
    "        P(X = 1) = (Probability that number of heads is 1) = P(HT | TH) = 1/2×1/2 + 1/2×1/2 = 1/2\n",
    "        P(X = 2) = (Probability that number of heads is 2) = P(HH) = 1/2×1/2 = 1/4\n",
    "    Here, you can observe that, (0 ≤ p1, p2, p3 ≤ 1/2)\n",
    "    \n",
    "    p1 + p2 + p3 = 1/4 + 2/4 + 1/4 = 1\n",
    "</p>"
   ]
  },
  {
   "cell_type": "code",
   "execution_count": 8,
   "id": "f042882d-210c-420f-ac7c-6682ea31e9e1",
   "metadata": {},
   "outputs": [
    {
     "name": "stdout",
     "output_type": "stream",
     "text": [
      "Probability of 1 was 0.17, occurence was 0.200.\n",
      "Probability of 2 was 0.17, occurence was 0.150.\n",
      "Probability of 3 was 0.17, occurence was 0.150.\n",
      "Probability of 4 was 0.17, occurence was 0.200.\n",
      "Probability of 5 was 0.17, occurence was 0.100.\n",
      "Probability of 6 was 0.17, occurence was 0.200.\n"
     ]
    }
   ],
   "source": [
    "import random\n",
    "sample = [1, 2, 3, 4, 5, 6]\n",
    "prob_one_ele = float(1/len(sample))\n",
    "data = [random.randint(1, 6) for _ in range(20)]\n",
    "size = len(data)\n",
    "prob_sample = {}\n",
    "for ele in sample:\n",
    "    count = data.count(ele)\n",
    "    prob_sample[ele] = float(count/size)\n",
    "for key, val in prob_sample.items():\n",
    "    print(f\"Probability of {key} was {prob_one_ele:.2f}, occurence was {val:.3f}.\")"
   ]
  },
  {
   "cell_type": "markdown",
   "id": "819feb77-5e57-443f-ae13-81fec9f9315c",
   "metadata": {},
   "source": [
    "### Continuous Random Variable\n",
    "The probability function associated with it is said to be PDF (Probability Density Function).\n",
    "<p>\n",
    "    If X is a continuous random variable. P (x < X < x + dx) = f(x)dx then,\n",
    "    <ul>\n",
    "        <li>0 ≤ f(x) ≤ 1; for all x</li>\n",
    "        <li>∫ f(x) dx = 1 over all values of x</li>\n",
    "    </ul>\n",
    "    Then P (X) is said to be a PDF of the distribution.\n",
    "</p>"
   ]
  }
 ],
 "metadata": {
  "kernelspec": {
   "display_name": "Python 3 (ipykernel)",
   "language": "python",
   "name": "python3"
  },
  "language_info": {
   "codemirror_mode": {
    "name": "ipython",
    "version": 3
   },
   "file_extension": ".py",
   "mimetype": "text/x-python",
   "name": "python",
   "nbconvert_exporter": "python",
   "pygments_lexer": "ipython3",
   "version": "3.12.2"
  }
 },
 "nbformat": 4,
 "nbformat_minor": 5
}
