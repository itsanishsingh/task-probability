{
 "cells": [
  {
   "cell_type": "markdown",
   "id": "7bdbc26d-f0a0-4ce7-8d45-5fabea05257b",
   "metadata": {},
   "source": [
    "# Probability"
   ]
  },
  {
   "cell_type": "markdown",
   "id": "15d8ce9f-6a2e-4beb-9432-7ee21ed1a1e9",
   "metadata": {},
   "source": [
    "## Random Variables\n",
    "Random variable is a fundamental concept in statistics that bridges the gap between theoretical probability and real-world data. random variable in statistics is a function that assigns a real value to an outcome in the sample space of a random experiment.\\\n",
    "Random variables are of 2 types:\n",
    "* Discrete - A Discrete Random Variable takes on a finite number of values.\n",
    "* Continuous - Continuous Random Variable takes on an infinite number of values."
   ]
  },
  {
   "cell_type": "markdown",
   "id": "ae04419d-5d39-41a8-ab6b-0189fc5c9b8d",
   "metadata": {},
   "source": [
    "### Discrete Random Variable\n",
    "The probability function associated with it is said to be PMF (Probability Mass Function).\n",
    "<p>\n",
    "    If X is a discrete random variable and the PMF of X is P(xi), then\n",
    "        <ul>\n",
    "            <li>0 ≤ pi ≤ 1</li>\n",
    "            <li>∑pi = 1 where the sum is taken over all possible values of x</li>\n",
    "        </ul>\n",
    "    Lets take an example:\n",
    "    \n",
    "    If two unbiased coins are tossed then find the random variable associated with that event.\n",
    "    \n",
    "    Suppose Two (unbiased) coins are tossed\n",
    "    \n",
    "    X = number of heads. [X is a random variable or function]\n",
    "    \n",
    "    Here, the sample space S = {HH, HT, TH, TT}\n",
    "    \n",
    "    Suppose a random variable X takes m different values i.e. sample space\n",
    "    \n",
    "    X = {x1, x2, x3………xm} with probabilities\n",
    "    \n",
    "    P(X = xi) = pi\n",
    "    \n",
    "    where 1 ≤ i ≤ m\n",
    "    \n",
    "    The probabilities must satisfy the following conditions :\n",
    "        0 ≤ pi ≤ 1; where 1 ≤ i ≤ m\n",
    "        p1 + p2 + p3 + ……. + pm = 1 Or we can say 0 ≤ pi ≤ 1 and ∑pi = 1\n",
    "    \n",
    "    Hence possible values for random variable X are 0, 1, 2.\n",
    "    \n",
    "    X = {0, 1, 2} where m = 3\n",
    "        P(X = 0) = (Probability that number of heads is 0) = P(TT) = 1/2×1/2 = 1/4\n",
    "        P(X = 1) = (Probability that number of heads is 1) = P(HT | TH) = 1/2×1/2 + 1/2×1/2 = 1/2\n",
    "        P(X = 2) = (Probability that number of heads is 2) = P(HH) = 1/2×1/2 = 1/4\n",
    "    Here, you can observe that, (0 ≤ p1, p2, p3 ≤ 1/2)\n",
    "    \n",
    "    p1 + p2 + p3 = 1/4 + 2/4 + 1/4 = 1\n",
    "</p>"
   ]
  },
  {
   "cell_type": "code",
   "execution_count": 1,
   "id": "f042882d-210c-420f-ac7c-6682ea31e9e1",
   "metadata": {},
   "outputs": [
    {
     "name": "stdout",
     "output_type": "stream",
     "text": [
      "Probability of 1 was 0.17, occurence was 0.150.\n",
      "Probability of 2 was 0.17, occurence was 0.150.\n",
      "Probability of 3 was 0.17, occurence was 0.150.\n",
      "Probability of 4 was 0.17, occurence was 0.200.\n",
      "Probability of 5 was 0.17, occurence was 0.200.\n",
      "Probability of 6 was 0.17, occurence was 0.150.\n"
     ]
    }
   ],
   "source": [
    "import random\n",
    "sample = [1, 2, 3, 4, 5, 6]\n",
    "prob_one_ele = float(1/len(sample))\n",
    "data = [random.randint(1, 6) for _ in range(20)]\n",
    "size = len(data)\n",
    "prob_sample = {}\n",
    "for ele in sample:\n",
    "    count = data.count(ele)\n",
    "    prob_sample[ele] = float(count/size)\n",
    "for key, val in prob_sample.items():\n",
    "    print(f\"Probability of {key} was {prob_one_ele:.2f}, occurence was {val:.3f}.\")"
   ]
  },
  {
   "cell_type": "markdown",
   "id": "819feb77-5e57-443f-ae13-81fec9f9315c",
   "metadata": {},
   "source": [
    "### Continuous Random Variable\n",
    "The probability function associated with it is said to be PDF (Probability Density Function).\n",
    "<p>\n",
    "    If X is a continuous random variable. P (x < X < x + dx) = f(x)dx then,\n",
    "    <ul>\n",
    "        <li>0 ≤ f(x) ≤ 1; for all x</li>\n",
    "        <li>∫ f(x) dx = 1 over all values of x</li>\n",
    "    </ul>\n",
    "    Then P (X) is said to be a PDF of the distribution.\n",
    "</p>"
   ]
  },
  {
   "cell_type": "code",
   "execution_count": 2,
   "id": "7403801a-b066-4c93-8d9c-5a6408348a02",
   "metadata": {},
   "outputs": [],
   "source": [
    "import pandas as pd\n",
    "from matplotlib import pyplot as plt\n",
    "import seaborn as sns"
   ]
  },
  {
   "cell_type": "code",
   "execution_count": 3,
   "id": "1cb6aca9-f62c-4abd-a4f0-2b0e39c4b00e",
   "metadata": {},
   "outputs": [],
   "source": [
    "df = pd.read_csv('weight-height.csv')"
   ]
  },
  {
   "cell_type": "code",
   "execution_count": 4,
   "id": "faa8a61a-88dd-4f76-b09a-01074a7107c9",
   "metadata": {},
   "outputs": [
    {
     "data": {
      "text/html": [
       "<div>\n",
       "<style scoped>\n",
       "    .dataframe tbody tr th:only-of-type {\n",
       "        vertical-align: middle;\n",
       "    }\n",
       "\n",
       "    .dataframe tbody tr th {\n",
       "        vertical-align: top;\n",
       "    }\n",
       "\n",
       "    .dataframe thead th {\n",
       "        text-align: right;\n",
       "    }\n",
       "</style>\n",
       "<table border=\"1\" class=\"dataframe\">\n",
       "  <thead>\n",
       "    <tr style=\"text-align: right;\">\n",
       "      <th></th>\n",
       "      <th>Gender</th>\n",
       "      <th>Height</th>\n",
       "      <th>Weight</th>\n",
       "    </tr>\n",
       "  </thead>\n",
       "  <tbody>\n",
       "    <tr>\n",
       "      <th>0</th>\n",
       "      <td>Male</td>\n",
       "      <td>73.847017</td>\n",
       "      <td>241.893563</td>\n",
       "    </tr>\n",
       "    <tr>\n",
       "      <th>1</th>\n",
       "      <td>Male</td>\n",
       "      <td>68.781904</td>\n",
       "      <td>162.310473</td>\n",
       "    </tr>\n",
       "    <tr>\n",
       "      <th>2</th>\n",
       "      <td>Male</td>\n",
       "      <td>74.110105</td>\n",
       "      <td>212.740856</td>\n",
       "    </tr>\n",
       "    <tr>\n",
       "      <th>3</th>\n",
       "      <td>Male</td>\n",
       "      <td>71.730978</td>\n",
       "      <td>220.042470</td>\n",
       "    </tr>\n",
       "    <tr>\n",
       "      <th>4</th>\n",
       "      <td>Male</td>\n",
       "      <td>69.881796</td>\n",
       "      <td>206.349801</td>\n",
       "    </tr>\n",
       "  </tbody>\n",
       "</table>\n",
       "</div>"
      ],
      "text/plain": [
       "  Gender     Height      Weight\n",
       "0   Male  73.847017  241.893563\n",
       "1   Male  68.781904  162.310473\n",
       "2   Male  74.110105  212.740856\n",
       "3   Male  71.730978  220.042470\n",
       "4   Male  69.881796  206.349801"
      ]
     },
     "execution_count": 4,
     "metadata": {},
     "output_type": "execute_result"
    }
   ],
   "source": [
    "df.head()"
   ]
  },
  {
   "cell_type": "code",
   "execution_count": 5,
   "id": "9eb52b39-558a-4afb-b65f-359230cf7987",
   "metadata": {},
   "outputs": [
    {
     "data": {
      "text/plain": [
       "(10000, 3)"
      ]
     },
     "execution_count": 5,
     "metadata": {},
     "output_type": "execute_result"
    }
   ],
   "source": [
    "df.shape"
   ]
  },
  {
   "cell_type": "code",
   "execution_count": 6,
   "id": "865784a9-696c-4b4d-8c05-a311c301d121",
   "metadata": {},
   "outputs": [],
   "source": [
    "df_male = df.query(\"Gender == 'Male'\")\n",
    "df_female = df.query(\"Gender == 'Female'\")"
   ]
  },
  {
   "cell_type": "code",
   "execution_count": 7,
   "id": "33457e88-01d3-4e63-9987-d4782ca3ae6a",
   "metadata": {},
   "outputs": [
    {
     "data": {
      "image/png": "[encoded data removed]",
      "text/plain": [
       "<Figure size 640x480 with 1 Axes>"
      ]
     },
     "metadata": {},
     "output_type": "display_data"
    }
   ],
   "source": [
    "# fig, ax = plt.subplots()\n",
    "\n",
    "ax = df_male.plot(kind=\"scatter\", x=\"Height\", y=\"Weight\", color=\"Orange\")\n",
    "df_female.plot(ax = ax, kind=\"scatter\", x=\"Height\", y=\"Weight\", color=\"Cyan\")\n",
    "ax.legend([\"Male\", \"Female\"])\n",
    "plt.show()"
   ]
  },
  {
   "cell_type": "markdown",
   "id": "366f6a11-0558-448f-9b55-05a3297ef00a",
   "metadata": {},
   "source": [
    "From the above plot, it is quite clear that there is a substantial overlap between classes which would lead to errors when we will try to predict the class of a record."
   ]
  },
  {
   "cell_type": "code",
   "execution_count": 8,
   "id": "d27e983d-ea45-4e39-a49b-c78fdea64c53",
   "metadata": {},
   "outputs": [],
   "source": [
    "df_grouped = df.groupby(\"Gender\")"
   ]
  },
  {
   "cell_type": "code",
   "execution_count": 9,
   "id": "b2015d73-1623-48e9-9473-87fcb51addd6",
   "metadata": {},
   "outputs": [
    {
     "data": {
      "text/html": [
       "<div>\n",
       "<style scoped>\n",
       "    .dataframe tbody tr th:only-of-type {\n",
       "        vertical-align: middle;\n",
       "    }\n",
       "\n",
       "    .dataframe tbody tr th {\n",
       "        vertical-align: top;\n",
       "    }\n",
       "\n",
       "    .dataframe thead tr th {\n",
       "        text-align: left;\n",
       "    }\n",
       "\n",
       "    .dataframe thead tr:last-of-type th {\n",
       "        text-align: right;\n",
       "    }\n",
       "</style>\n",
       "<table border=\"1\" class=\"dataframe\">\n",
       "  <thead>\n",
       "    <tr>\n",
       "      <th></th>\n",
       "      <th colspan=\"2\" halign=\"left\">Height</th>\n",
       "      <th colspan=\"2\" halign=\"left\">Weight</th>\n",
       "    </tr>\n",
       "    <tr>\n",
       "      <th></th>\n",
       "      <th>mean</th>\n",
       "      <th>median</th>\n",
       "      <th>mean</th>\n",
       "      <th>median</th>\n",
       "    </tr>\n",
       "    <tr>\n",
       "      <th>Gender</th>\n",
       "      <th></th>\n",
       "      <th></th>\n",
       "      <th></th>\n",
       "      <th></th>\n",
       "    </tr>\n",
       "  </thead>\n",
       "  <tbody>\n",
       "    <tr>\n",
       "      <th>Female</th>\n",
       "      <td>63.708774</td>\n",
       "      <td>63.730924</td>\n",
       "      <td>135.860093</td>\n",
       "      <td>136.117583</td>\n",
       "    </tr>\n",
       "    <tr>\n",
       "      <th>Male</th>\n",
       "      <td>69.026346</td>\n",
       "      <td>69.027709</td>\n",
       "      <td>187.020621</td>\n",
       "      <td>187.033546</td>\n",
       "    </tr>\n",
       "  </tbody>\n",
       "</table>\n",
       "</div>"
      ],
      "text/plain": [
       "           Height                 Weight            \n",
       "             mean     median        mean      median\n",
       "Gender                                              \n",
       "Female  63.708774  63.730924  135.860093  136.117583\n",
       "Male    69.026346  69.027709  187.020621  187.033546"
      ]
     },
     "execution_count": 9,
     "metadata": {},
     "output_type": "execute_result"
    }
   ],
   "source": [
    "df_grouped.agg(['mean', 'median'])"
   ]
  },
  {
   "cell_type": "code",
   "execution_count": 10,
   "id": "8800f2ab-bbde-49fd-9afd-4f19a0fcfb22",
   "metadata": {},
   "outputs": [
    {
     "data": {
      "text/html": [
       "<div>\n",
       "<style scoped>\n",
       "    .dataframe tbody tr th:only-of-type {\n",
       "        vertical-align: middle;\n",
       "    }\n",
       "\n",
       "    .dataframe tbody tr th {\n",
       "        vertical-align: top;\n",
       "    }\n",
       "\n",
       "    .dataframe thead th {\n",
       "        text-align: right;\n",
       "    }\n",
       "</style>\n",
       "<table border=\"1\" class=\"dataframe\">\n",
       "  <thead>\n",
       "    <tr style=\"text-align: right;\">\n",
       "      <th></th>\n",
       "      <th>Height</th>\n",
       "      <th>Weight</th>\n",
       "    </tr>\n",
       "    <tr>\n",
       "      <th>Gender</th>\n",
       "      <th></th>\n",
       "      <th></th>\n",
       "    </tr>\n",
       "  </thead>\n",
       "  <tbody>\n",
       "    <tr>\n",
       "      <th>Female</th>\n",
       "      <td>2.696284</td>\n",
       "      <td>19.022468</td>\n",
       "    </tr>\n",
       "    <tr>\n",
       "      <th>Male</th>\n",
       "      <td>2.863362</td>\n",
       "      <td>19.781155</td>\n",
       "    </tr>\n",
       "  </tbody>\n",
       "</table>\n",
       "</div>"
      ],
      "text/plain": [
       "          Height     Weight\n",
       "Gender                     \n",
       "Female  2.696284  19.022468\n",
       "Male    2.863362  19.781155"
      ]
     },
     "execution_count": 10,
     "metadata": {},
     "output_type": "execute_result"
    }
   ],
   "source": [
    "df_grouped.std()"
   ]
  },
  {
   "cell_type": "code",
   "execution_count": 11,
   "id": "d71975f7-9da3-45c0-8893-8ecae8be3991",
   "metadata": {},
   "outputs": [
    {
     "data": {
      "image/png": "[encoded data removed]",
      "text/plain": [
       "<Figure size 400.25x300 with 1 Axes>"
      ]
     },
     "metadata": {},
     "output_type": "display_data"
    },
    {
     "data": {
      "image/png": "[encoded data removed]",
      "text/plain": [
       "<Figure size 400.25x300 with 1 Axes>"
      ]
     },
     "metadata": {},
     "output_type": "display_data"
    }
   ],
   "source": [
    "sns.FacetGrid(df, hue=\"Gender\").map(sns.histplot, \"Height\").add_legend()\n",
    "sns.FacetGrid(df, hue=\"Gender\").map(sns.histplot, \"Weight\").add_legend()\n",
    "plt.show()"
   ]
  },
  {
   "cell_type": "markdown",
   "id": "7c94bf19-7f09-441d-b2ec-a0d7f00111d9",
   "metadata": {},
   "source": [
    "The above plot shows us the exact area where there is an overlap and if a record's value were to fall in this area the differentiation would be extremely difficult."
   ]
  },
  {
   "cell_type": "code",
   "execution_count": null,
   "id": "d64da4fa-3f03-40bb-88cd-ebcc9c0fa772",
   "metadata": {},
   "outputs": [],
   "source": []
  }
 ],
 "metadata": {
  "kernelspec": {
   "display_name": "Python 3 (ipykernel)",
   "language": "python",
   "name": "python3"
  },
  "language_info": {
   "codemirror_mode": {
    "name": "ipython",
    "version": 3
   },
   "file_extension": ".py",
   "mimetype": "text/x-python",
   "name": "python",
   "nbconvert_exporter": "python",
   "pygments_lexer": "ipython3",
   "version": "3.12.2"
  }
 },
 "nbformat": 4,
 "nbformat_minor": 5
}
